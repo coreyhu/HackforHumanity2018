{
 "cells": [
  {
   "cell_type": "code",
   "execution_count": 1,
   "metadata": {
    "collapsed": true
   },
   "outputs": [],
   "source": [
    "import pandas as pd\n",
    "import numpy as np\n",
    "from scipy.signal import find_peaks_cwt\n",
    "import matplotlib.pyplot as plt\n",
    "%matplotlib inline"
   ]
  },
  {
   "cell_type": "code",
   "execution_count": 2,
   "metadata": {
    "collapsed": true
   },
   "outputs": [],
   "source": [
    "df = pd.read_csv('data.csv', names=['time', 'signal'])"
   ]
  },
  {
   "cell_type": "code",
   "execution_count": 3,
   "metadata": {},
   "outputs": [
    {
     "data": {
      "text/html": [
       "<div>\n",
       "<style>\n",
       "    .dataframe thead tr:only-child th {\n",
       "        text-align: right;\n",
       "    }\n",
       "\n",
       "    .dataframe thead th {\n",
       "        text-align: left;\n",
       "    }\n",
       "\n",
       "    .dataframe tbody tr th {\n",
       "        vertical-align: top;\n",
       "    }\n",
       "</style>\n",
       "<table border=\"1\" class=\"dataframe\">\n",
       "  <thead>\n",
       "    <tr style=\"text-align: right;\">\n",
       "      <th></th>\n",
       "      <th>time</th>\n",
       "      <th>signal</th>\n",
       "    </tr>\n",
       "  </thead>\n",
       "  <tbody>\n",
       "    <tr>\n",
       "      <th>0</th>\n",
       "      <td>0.003</td>\n",
       "      <td>242.0</td>\n",
       "    </tr>\n",
       "    <tr>\n",
       "      <th>1</th>\n",
       "      <td>0.020</td>\n",
       "      <td>120.0</td>\n",
       "    </tr>\n",
       "    <tr>\n",
       "      <th>2</th>\n",
       "      <td>0.038</td>\n",
       "      <td>117.0</td>\n",
       "    </tr>\n",
       "    <tr>\n",
       "      <th>3</th>\n",
       "      <td>0.054</td>\n",
       "      <td>116.0</td>\n",
       "    </tr>\n",
       "    <tr>\n",
       "      <th>4</th>\n",
       "      <td>0.071</td>\n",
       "      <td>114.0</td>\n",
       "    </tr>\n",
       "  </tbody>\n",
       "</table>\n",
       "</div>"
      ],
      "text/plain": [
       "    time  signal\n",
       "0  0.003   242.0\n",
       "1  0.020   120.0\n",
       "2  0.038   117.0\n",
       "3  0.054   116.0\n",
       "4  0.071   114.0"
      ]
     },
     "execution_count": 3,
     "metadata": {},
     "output_type": "execute_result"
    }
   ],
   "source": [
    "df.head()"
   ]
  },
  {
   "cell_type": "code",
   "execution_count": 4,
   "metadata": {
    "collapsed": true
   },
   "outputs": [],
   "source": [
    "df = df.drop(df.index[[0, -1]])\n",
    "df = df.dropna()"
   ]
  },
  {
   "cell_type": "code",
   "execution_count": 5,
   "metadata": {
    "collapsed": true
   },
   "outputs": [],
   "source": [
    "time = df['time']"
   ]
  },
  {
   "cell_type": "code",
   "execution_count": 6,
   "metadata": {
    "collapsed": true
   },
   "outputs": [],
   "source": [
    "signal = df['signal']"
   ]
  },
  {
   "cell_type": "code",
   "execution_count": 7,
   "metadata": {
    "collapsed": true
   },
   "outputs": [],
   "source": [
    "signal = signal.astype(float, casting='safe')"
   ]
  },
  {
   "cell_type": "code",
   "execution_count": 8,
   "metadata": {
    "collapsed": true
   },
   "outputs": [],
   "source": [
    "from scipy.signal import lfilter\n",
    "\n",
    "n = 15\n",
    "b = [1.0 / n] * n\n",
    "a = 1\n",
    "\n",
    "l_signal = lfilter(b, a, signal)"
   ]
  },
  {
   "cell_type": "code",
   "execution_count": 9,
   "metadata": {
    "collapsed": true
   },
   "outputs": [],
   "source": [
    "l_indexes = find_peaks_cwt(l_signal, time, noise_perc=10)"
   ]
  },
  {
   "cell_type": "code",
   "execution_count": 10,
   "metadata": {
    "collapsed": true
   },
   "outputs": [],
   "source": [
    "l_peak_sigs = [l_signal[index] for index in l_indexes]"
   ]
  },
  {
   "cell_type": "code",
   "execution_count": 11,
   "metadata": {
    "collapsed": true
   },
   "outputs": [],
   "source": [
    "l_peak_time = [time[index] for index in l_indexes]"
   ]
  },
  {
   "cell_type": "code",
   "execution_count": 12,
   "metadata": {
    "scrolled": true
   },
   "outputs": [
    {
     "data": {
      "text/plain": [
       "[<matplotlib.lines.Line2D at 0x108a72320>]"
      ]
     },
     "execution_count": 12,
     "metadata": {},
     "output_type": "execute_result"
    },
    {
     "data": {
      "image/png": "[encoded data removed]",
      "text/plain": [
       "<matplotlib.figure.Figure at 0x108a722b0>"
      ]
     },
     "metadata": {},
     "output_type": "display_data"
    }
   ],
   "source": [
    "plt.plot(time, l_signal)\n",
    "plt.plot(l_peak_time, l_peak_sigs, '*')"
   ]
  },
  {
   "cell_type": "code",
   "execution_count": 13,
   "metadata": {
    "collapsed": true
   },
   "outputs": [],
   "source": [
    "from scipy.signal import lfilter\n",
    "\n",
    "n = 15  # the larger n is, the smoother curve will be\n",
    "b = [1.0 / n] * n\n",
    "a = 1\n",
    "\n",
    "l_signal = lfilter(b, a, signal)"
   ]
  },
  {
   "cell_type": "code",
   "execution_count": 14,
   "metadata": {},
   "outputs": [
    {
     "data": {
      "text/plain": [
       "[1.7060000896500001,\n",
       " 2.6710000038099997,\n",
       " 3.5539999008199996,\n",
       " 4.3380000591300005,\n",
       " 5.1040000915499997,\n",
       " 6.1729998588600008,\n",
       " 7.1040000915499997,\n",
       " 7.9560000896500007,\n",
       " 8.5039999485000006,\n",
       " 9.6879999637600012,\n",
       " 10.605999946599999,\n",
       " 11.2879998684,\n",
       " 12.022000074400001,\n",
       " 13.072000026700001,\n",
       " 13.539000034300001,\n",
       " 14.522000074400001,\n",
       " 15.522000074400001,\n",
       " 16.539000034299999,\n",
       " 17.338999986600001,\n",
       " 17.772000074400001,\n",
       " 18.9730000496,\n",
       " 19.422999858900003,\n",
       " 20.055000066800002,\n",
       " 20.9730000496,\n",
       " 21.871999979000002,\n",
       " 22.355999946599997,\n",
       " 23.190999984699999,\n",
       " 23.639999866500002,\n",
       " 24.588999986599998,\n",
       " 25.1889998913,\n",
       " 25.924999952299999,\n",
       " 27.0899999142,\n",
       " 28.389999866500002,\n",
       " 28.8399999142,\n",
       " 30.3229999542,\n",
       " 31.690999984699999,\n",
       " 32.825999975199998,\n",
       " 33.657000064800002,\n",
       " 34.591000080100002]"
      ]
     },
     "execution_count": 14,
     "metadata": {},
     "output_type": "execute_result"
    }
   ],
   "source": [
    "l_peak_time"
   ]
  },
  {
   "cell_type": "code",
   "execution_count": 15,
   "metadata": {},
   "outputs": [
    {
     "data": {
      "text/plain": [
       "39"
      ]
     },
     "execution_count": 15,
     "metadata": {},
     "output_type": "execute_result"
    }
   ],
   "source": [
    "len(l_peak_time)"
   ]
  },
  {
   "cell_type": "code",
   "execution_count": 16,
   "metadata": {},
   "outputs": [
    {
     "ename": "IndentationError",
     "evalue": "unexpected indent (<ipython-input-16-8ac5ed1fba40>, line 24)",
     "output_type": "error",
     "traceback": [
      "\u001b[0;36m  File \u001b[0;32m\"<ipython-input-16-8ac5ed1fba40>\"\u001b[0;36m, line \u001b[0;32m24\u001b[0m\n\u001b[0;31m    i += 1\u001b[0m\n\u001b[0m    ^\u001b[0m\n\u001b[0;31mIndentationError\u001b[0m\u001b[0;31m:\u001b[0m unexpected indent\n"
     ]
    }
   ],
   "source": [
    "i = 0\n",
    "limit = 3\n",
    "threshold = 400\n",
    "list_size = len(l_peak_time)\n",
    "\n",
    "kick_first = False\n",
    "\n",
    "if l_peak_sigs[i] < threshold:\n",
    "    kick_first = True\n",
    "\n",
    "while i < list_size - 1:\n",
    "    \n",
    "    if i < list_size - 1 and (l_peak_time[i] + limit > l_peak_time[i+1] or l_peak_sigs[i+1] < threshold):\n",
    "        l_peak_time.pop(i + 1)\n",
    "        l_peak_sigs.pop(i + 1)\n",
    "        list_size -=1\n",
    "        i -= 1\n",
    "\n",
    "    i += 1\n",
    "if kick_first:\n",
    "    l_peak_time.pop(0)\n",
    "    l_peak_sigs.pop(0)\n",
    "\n"
   ]
  },
  {
   "cell_type": "code",
   "execution_count": null,
   "metadata": {
    "collapsed": true
   },
   "outputs": [],
   "source": [
    "len(l_peak_time)"
   ]
  },
  {
   "cell_type": "code",
   "execution_count": null,
   "metadata": {
    "collapsed": true
   },
   "outputs": [],
   "source": [
    "plt.plot(time, l_signal)\n",
    "plt.plot(l_peak_time, l_peak_sigs, '*')"
   ]
  },
  {
   "cell_type": "code",
   "execution_count": null,
   "metadata": {
    "collapsed": true
   },
   "outputs": [],
   "source": [
    "print(\"We believe your fetus has {} ± {} kicks\".format(len(l_peak_time), 2))"
   ]
  },
  {
   "cell_type": "code",
   "execution_count": null,
   "metadata": {
    "collapsed": true
   },
   "outputs": [],
   "source": []
  }
 ],
 "metadata": {
  "kernelspec": {
   "display_name": "Python 3",
   "language": "python",
   "name": "python3"
  },
  "language_info": {
   "codemirror_mode": {
    "name": "ipython",
    "version": 3
   },
   "file_extension": ".py",
   "mimetype": "text/x-python",
   "name": "python",
   "nbconvert_exporter": "python",
   "pygments_lexer": "ipython3",
   "version": "3.6.3"
  }
 },
 "nbformat": 4,
 "nbformat_minor": 2
}
